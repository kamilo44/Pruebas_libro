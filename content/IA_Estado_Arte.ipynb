{
 "cells": [
  {
   "cell_type": "markdown",
   "id": "ed97b79d",
   "metadata": {
    "tags": []
   },
   "source": [
    "# <span style=\"color:#F72585\"><center>Inteligencia Artificial</center></span>"
   ]
  },
  {
   "cell_type": "markdown",
   "id": "984817b2",
   "metadata": {},
   "source": [
    "<center>Estado del arte y claves de su desarrollo</center>"
   ]
  },
  {
   "cell_type": "markdown",
   "id": "51a00e8f",
   "metadata": {},
   "source": [
    "<figure>\n",
    "<center>\n",
    "<img src=\"../Imagenes/ai-in-education-2.jpg\" width=\"500\" height=\"300\" align=\"center\" /> \n",
    "</center>   \n",
    "</figure>\n",
    "\n",
    "Fuente: [Unesco: educación e inteligencia artificial](https://es.unesco.org/themes/tic-educacion/inteligencia-artificial)"
   ]
  },
  {
   "cell_type": "markdown",
   "id": "19e709b8",
   "metadata": {
    "slideshow": {
     "slide_type": "slide"
    },
    "tags": []
   },
   "source": [
    "## <span style=\"color:#4361EE\">Referencias</span>"
   ]
  },
  {
   "cell_type": "markdown",
   "id": "ed0fa4c1",
   "metadata": {},
   "source": [
    "1. [Alvaro Montenegro y Daniel Montenegro, Inteligencia Artificial y Aprendizaje Profundo, 2021](https://github.com/AprendizajeProfundo/Diplomado)\n",
    "1. [Unesco: educación e inteligencia artificial](https://es.unesco.org/themes/tic-educacion/inteligencia-artificial)"
   ]
  },
  {
   "cell_type": "markdown",
   "id": "a24184e6",
   "metadata": {
    "slideshow": {
     "slide_type": "slide"
    },
    "tags": []
   },
   "source": [
    "## <span style=\"color:#4361EE\">Introducción</span>"
   ]
  },
  {
   "cell_type": "markdown",
   "id": "07a0f326",
   "metadata": {
    "slideshow": {
     "slide_type": "slide"
    },
    "tags": []
   },
   "source": [
    "###  <span style=\"color:#4CC9F0\">La Inteligencia Artificial en la Escuela. UNESCO</span>"
   ]
  },
  {
   "cell_type": "markdown",
   "id": "d122914f",
   "metadata": {},
   "source": [
    "#### Consenso de Beijing\n",
    "* Promover una utilización equitativa e inclusiva de la IA en la educación;\n",
    "* Una IA que respete la equidad entre géneros y favorable a la igualdad de géneros;\n",
    "* Velar por una utilización ética, transparente y comprobable de los datos y algoritmos de la educación;\n",
    "* Seguimiento, evaluación e investigación."
   ]
  },
  {
   "cell_type": "markdown",
   "id": "58a4d4a7",
   "metadata": {},
   "source": [
    "<figure>\n",
    "<center>\n",
    "<img src=\"../Imagenes/ai-in-education.jpg\"  width=\"500\" height=\"300\" align=\"center\" /> \n",
    "</center>   \n",
    "</figure>\n",
    "\n",
    "Fuente: [Unesco: educación e inteligencia artificial](https://es.unesco.org/themes/tic-educacion/inteligencia-artificial)"
   ]
  },
  {
   "cell_type": "markdown",
   "id": "6d047185",
   "metadata": {
    "slideshow": {
     "slide_type": "slide"
    },
    "tags": []
   },
   "source": [
    "## <span style=\"color:#4361EE\">Transformación digital</span>"
   ]
  },
  {
   "cell_type": "markdown",
   "id": "e34adf31",
   "metadata": {
    "tags": []
   },
   "source": [
    "<figure>\n",
    "<center>\n",
    "<img src=\"../Imagenes/pexels-cottonbro-5474298.jpg\"  width=\"200\" height=\"200\" align=\"center\" /> \n",
    "</center>   \n",
    "</figure>\n",
    "\n",
    "Fuente: [Pexeles](https://www.pexels.com/es-es/foto/mano-usb-tecnologia-sujetando-5474298/)\n"
   ]
  },
  {
   "cell_type": "markdown",
   "id": "b193c589",
   "metadata": {
    "slideshow": {
     "slide_type": "slide"
    },
    "tags": []
   },
   "source": [
    "## <span style=\"color:#4361EE\">Matemáticas</span>"
   ]
  },
  {
   "cell_type": "markdown",
   "id": "7fdfadb7",
   "metadata": {
    "slideshow": {
     "slide_type": "subslide"
    },
    "tags": []
   },
   "source": [
    "### <span style=\"color:#4CC9F0\">Tensores</span>"
   ]
  },
  {
   "cell_type": "markdown",
   "id": "e5a1bac5",
   "metadata": {},
   "source": [
    "<img src=\"../Imagenes/ten_tensores.jpg\" width=\"600\" height=\"300\" align=\"center\"/>\n",
    "\n",
    "Fuente: Alvaro Montenegro"
   ]
  },
  {
   "cell_type": "markdown",
   "id": "4e33813b",
   "metadata": {
    "slideshow": {
     "slide_type": "subslide"
    },
    "tags": []
   },
   "source": [
    "### <span style=\"color:#4CC9F0\">Ejemplo: Fragmento de video</span>"
   ]
  },
  {
   "cell_type": "markdown",
   "id": "bd96e22b",
   "metadata": {
    "tags": []
   },
   "source": [
    "<img src=\"../Imagenes/ten_tensor_4_d.jpg\" width=\"600\" height=\"300\" align=\"center\"/>\n",
    "\n",
    "Fuente: Alvaro Montenegro"
   ]
  },
  {
   "cell_type": "markdown",
   "id": "77bee671",
   "metadata": {
    "slideshow": {
     "slide_type": "subslide"
    },
    "tags": []
   },
   "source": [
    "### <span style=\"color:#4CC9F0\">Diferenciación Automática</span>"
   ]
  },
  {
   "cell_type": "markdown",
   "id": "95103e9b",
   "metadata": {},
   "source": [
    "<figure>\n",
    "<center>\n",
    "<img src=\"../Imagenes/AutomaticDifferentiationNutshell.png\" width=\"500\" height=\"300\" /> \n",
    "</center>   \n",
    "</figure>\n",
    "\n",
    "Fuente: [Wikipedia](https://en.wikipedia.org/wiki/Automatic_differentiation)"
   ]
  },
  {
   "cell_type": "markdown",
   "id": "d0e60071",
   "metadata": {
    "slideshow": {
     "slide_type": "subslide"
    },
    "tags": []
   },
   "source": [
    "### <span style=\"color:#4CC9F0\">Optimización a gran escala. Gradiente Estocástico Descendiente</span>"
   ]
  },
  {
   "cell_type": "markdown",
   "id": "9858453e",
   "metadata": {},
   "source": [
    "GPT-3, el modelo de lenguaje natural de OpenAI tiene 175 mil millones  de parámetros."
   ]
  },
  {
   "cell_type": "markdown",
   "id": "a474abc3",
   "metadata": {},
   "source": [
    "<img src=\"../Imagenes/Gradient_ascent.png\" width=\"450\" height=\"300\" align=\"center\"/>\n",
    "\n",
    "Función $F(x,y)= \\sin (\\tfrac{1}{2}x^2- \\tfrac{1}{4}y^2 +3) \\cos (2x+1 -e^y)$\n",
    "\n",
    "Fuente: [Wikipedia](https://en.wikipedia.org/wiki/Gradient_descent)"
   ]
  },
  {
   "cell_type": "markdown",
   "id": "7239ef39",
   "metadata": {
    "slideshow": {
     "slide_type": "subslide"
    },
    "tags": []
   },
   "source": [
    "### <span style=\"color:#4CC9F0\">Convoluciones</span>"
   ]
  },
  {
   "cell_type": "markdown",
   "id": "e9104b25",
   "metadata": {},
   "source": [
    "<img src=\"../Imagenes/mapa_convolucion.png\" width=\"600\" height=\"300\" align=\"center\"/>\n",
    "\n",
    "Fuente: Alvaro Montenegro"
   ]
  },
  {
   "cell_type": "markdown",
   "id": "d00a7195",
   "metadata": {
    "slideshow": {
     "slide_type": "subslide"
    },
    "tags": []
   },
   "source": [
    "### <span style=\"color:#4CC9F0\">Estadística</span>"
   ]
  },
  {
   "cell_type": "markdown",
   "id": "eed6508c",
   "metadata": {},
   "source": [
    "<img src=\"../Imagenes/mod_reg2.jpg\" width=\"800\" height=\"600\" align=\"center\"/>\n",
    "\n",
    "Fuente: Daniel Montenegro"
   ]
  },
  {
   "cell_type": "markdown",
   "id": "59a460e9",
   "metadata": {
    "slideshow": {
     "slide_type": "subslide"
    },
    "tags": []
   },
   "source": [
    "### <span style=\"color:#4CC9F0\">Redes Neuronales Artificiales - analogía con el cerebro</span>"
   ]
  },
  {
   "cell_type": "markdown",
   "id": "72730bb3",
   "metadata": {},
   "source": [
    "<img src=\"../Imagenes/neurona_artificial.png\" width=\"600\" height=\"600\" align=\"center\"/>\n",
    "\n",
    "Fuente: Alvaro Montenegro"
   ]
  },
  {
   "cell_type": "markdown",
   "id": "ef0e61c5",
   "metadata": {
    "slideshow": {
     "slide_type": "subslide"
    },
    "tags": []
   },
   "source": [
    "\n",
    "### <span style=\"color:#4CC9F0\">Red Neural - objeto matemático</span>"
   ]
  },
  {
   "cell_type": "markdown",
   "id": "7f281485",
   "metadata": {},
   "source": [
    "<img src=\"../Imagenes/ANN_Capa_Oculta.png\" width=\"600\" height=\"600\" align=\"center\"/>\n",
    "\n",
    "Fuente: Alvaro Montenegro"
   ]
  },
  {
   "cell_type": "markdown",
   "id": "96b72e46",
   "metadata": {
    "slideshow": {
     "slide_type": "slide"
    },
    "tags": []
   },
   "source": [
    "## <span style=\"color:#4361EE\">Transformación de problemas</span>"
   ]
  },
  {
   "cell_type": "markdown",
   "id": "bb684e9a",
   "metadata": {
    "slideshow": {
     "slide_type": "subslide"
    },
    "tags": []
   },
   "source": [
    "### <span style=\"color:#4CC9F0\">Tratamiento de una imagen</span>"
   ]
  },
  {
   "cell_type": "markdown",
   "id": "5b7d64a7",
   "metadata": {},
   "source": [
    "<img src=\"../Imagenes/zeus.png\" width=\"700\" height=\"600\" align=\"center\"/>\n",
    "\n",
    "Fuente: Alvaro  Montenegro"
   ]
  },
  {
   "cell_type": "markdown",
   "id": "a9f77164",
   "metadata": {
    "slideshow": {
     "slide_type": "subslide"
    },
    "tags": []
   },
   "source": [
    "### <span style=\"color:#4CC9F0\">Series de tiempo</span>"
   ]
  },
  {
   "cell_type": "markdown",
   "id": "1ba9f924",
   "metadata": {},
   "source": [
    "![serie](../Imagenes/serie_tiempo.png)\n",
    "\n",
    "Fuente: Alvaro Montenegro"
   ]
  },
  {
   "cell_type": "markdown",
   "id": "93c5aba6",
   "metadata": {
    "slideshow": {
     "slide_type": "subslide"
    },
    "tags": []
   },
   "source": [
    "### <span style=\"color:#4CC9F0\">Tratamiento de lenguaje natural</span>"
   ]
  },
  {
   "cell_type": "markdown",
   "id": "08dfc51d",
   "metadata": {},
   "source": [
    "![pln.png](../Imagenes/pln.png)\n",
    "\n",
    "Fuente. Alvaro Montenegro"
   ]
  },
  {
   "cell_type": "markdown",
   "id": "f65fb737",
   "metadata": {
    "slideshow": {
     "slide_type": "slide"
    },
    "tags": []
   },
   "source": [
    "## <span style=\"color:#4361EE\">Tecnologías para el trabajo en IA</span>"
   ]
  },
  {
   "cell_type": "markdown",
   "id": "21bcd9b4",
   "metadata": {},
   "source": [
    "![Bain](../Imagenes/R_Python.jpeg)\n",
    "![Bain](../Imagenes/tf_Pytorch_keras.png)\n",
    "![Bain](../Imagenes/jupyter.png)\n",
    "\n",
    "Fuente: Todas estas imágenes tienen copyright.  Se muestran como ejemplo de tecnologías para IA"
   ]
  },
  {
   "cell_type": "markdown",
   "id": "6abc86ac",
   "metadata": {
    "slideshow": {
     "slide_type": "slide"
    },
    "tags": []
   },
   "source": [
    "## <span style=\"color:#4361EE\">El ciclo de la IA</span>"
   ]
  },
  {
   "cell_type": "markdown",
   "id": "ec9beb98",
   "metadata": {},
   "source": [
    "<img src=\"../Imagenes/Ciclo-IA.png\" width=\"900\" height=\"700\" align=\"center\"/>"
   ]
  }
 ],
 "metadata": {
  "kernelspec": {
   "display_name": "Python 3 (ipykernel)",
   "language": "python",
   "name": "python3"
  },
  "language_info": {
   "codemirror_mode": {
    "name": "ipython",
    "version": 3
   },
   "file_extension": ".py",
   "mimetype": "text/x-python",
   "name": "python",
   "nbconvert_exporter": "python",
   "pygments_lexer": "ipython3",
   "version": "3.9.7"
  }
 },
 "nbformat": 4,
 "nbformat_minor": 5
}
